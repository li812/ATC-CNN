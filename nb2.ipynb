{
 "cells": [
  {
   "cell_type": "code",
   "execution_count": 6,
   "metadata": {},
   "outputs": [
    {
     "name": "stdout",
     "output_type": "stream",
     "text": [
      "<class 'pandas.core.frame.DataFrame'>\n",
      "RangeIndex: 742 entries, 0 to 741\n",
      "Data columns (total 2 columns):\n",
      " #   Column  Non-Null Count  Dtype \n",
      "---  ------  --------------  ----- \n",
      " 0   UG      742 non-null    object\n",
      " 1   PG      742 non-null    object\n",
      "dtypes: object(2)\n",
      "memory usage: 11.7+ KB\n",
      "None\n",
      "<bound method NDFrame.head of                             UG                         PG\n",
      "0                 B.Sc Physics               M.Sc Physics\n",
      "1            B.Tech Electrical          M.Tech Electrical\n",
      "2               B.Sc Chemistry             M.Sc Chemistry\n",
      "3               B.Architecture             M.Architecture\n",
      "4      B.Tech Computer Science    M.Tech Computer Science\n",
      "..                         ...                        ...\n",
      "737     BBA Financial Analysis     MBA Financial Analysis\n",
      "738       BBA Retail Marketing       MBA Retail Marketing\n",
      "739   BBA Sustainable Business   MBA Sustainable Business\n",
      "740        BBA Business Ethics        MBA Business Ethics\n",
      "741  BBA Innovation Management  MBA Innovation Management\n",
      "\n",
      "[742 rows x 2 columns]>\n"
     ]
    }
   ],
   "source": [
    "import os\n",
    "import pandas as pd\n",
    "import PyPDF2\n",
    "from PyPDF2 import PdfReader\n",
    "df = pd.read_csv('dataset/ug_pg.csv')\n",
    "print(df.info())\n",
    "print(df.head)\n"
   ]
  },
  {
   "cell_type": "code",
   "execution_count": 8,
   "metadata": {},
   "outputs": [
    {
     "name": "stdout",
     "output_type": "stream",
     "text": [
      "The qualification is a Postgraduate course.\n"
     ]
    }
   ],
   "source": [
    "#qualification = input(\"Enter the qualification: \")\n",
    "\n",
    "qualification = 'B.Tech Computer Science'\n",
    "\n",
    "qualification = 'M.Tech Computer Science'\n",
    "\n",
    "# Check whether the qualification is UG or PG\n",
    "if qualification in df['UG'].values:\n",
    "    print(\"The qualification is an Undergraduate course.\")\n",
    "elif qualification in df['PG'].values:\n",
    "    print(\"The qualification is a Postgraduate course.\")\n",
    "else:\n",
    "    print(\"The qualification is not found in the dataset.\")\n"
   ]
  },
  {
   "cell_type": "code",
   "execution_count": null,
   "metadata": {},
   "outputs": [],
   "source": [
    "if qualification in df['UG'].values:\n",
    "    print(\"The qualification is an Undergraduate course.\")\n",
    "\n",
    "\n",
    "\n",
    "elif qualification in df['PG'].values:\n",
    "    print(\"The qualification is a Postgraduate course.\")\n",
    "    \n",
    "\n",
    "\n",
    "\n",
    "else:\n",
    "    print(\"The qualification is not found in the dataset.\")"
   ]
  },
  {
   "cell_type": "code",
   "execution_count": null,
   "metadata": {},
   "outputs": [],
   "source": [
    "import os\n",
    "import pandas as pd\n",
    "import PyPDF2\n",
    "from PyPDF2 import PdfReader\n",
    "df = pd.read_csv('dataset/ug_pg.csv')\n",
    "\n",
    "#qualification = input(\"Enter the qualification: \")\n",
    "\n",
    "#qualification = 'B.Tech Computer Science'\n",
    "\n",
    "qualification = 'M.Tech Software Engineering'\n",
    "\n",
    "# Check whether the qualification is UG or PG\n",
    "if qualification in df['UG'].values:\n",
    "    print(\"The qualification is an Undergraduate course.\")\n",
    "\n",
    "\n",
    "\n",
    "\n",
    "\n",
    "\n",
    "\n",
    "#If qualification is PG\n",
    "elif qualification in df['PG'].values:\n",
    "    print(\"The qualification is a Postgraduate course.\")\n",
    "\n",
    "    pred_keywords = []\n",
    "    directory = 'cv_base'\n",
    "\n",
    "    pred_keywords.append(qualification)\n",
    "\n",
    "    def search_cv(pred_keywords,directory):\n",
    "        selected_resumes = []\n",
    "        for filename in os.listdir(directory):\n",
    "            if filename.endswith('.pdf'):\n",
    "                with open(os.path.join(directory, filename), 'rb') as file:\n",
    "                    reader = PdfReader(file)\n",
    "\n",
    "                    for page in reader.pages:\n",
    "                        page_text = page.extract_text()\n",
    "\n",
    "                        if any(keyword.lower() in page_text.lower() for keyword in pred_keywords):\n",
    "                            selected_resumes.append(filename)\n",
    "                            break\n",
    "        return selected_resumes\n",
    "    \n",
    "\n",
    "    selected_CV = search_cv(pred_keywords,directory)\n",
    "    print('Selected resumes:', selected_CV)\n",
    "\n",
    "else:\n",
    "    print(\"The qualification is not found in the dataset.\")\n"
   ]
  },
  {
   "cell_type": "code",
   "execution_count": null,
   "metadata": {},
   "outputs": [],
   "source": [
    "UG = input(\"Enter the UG: \")\n",
    "\n",
    "# append all PG corresponding to the UG in the dataset to a list Qualified_PG"
   ]
  },
  {
   "cell_type": "code",
   "execution_count": 9,
   "metadata": {},
   "outputs": [
    {
     "name": "stdout",
     "output_type": "stream",
     "text": [
      "The postgraduate courses corresponding to the entered undergraduate course are:\n",
      "M.Tech Computer Science\n",
      "M.Tech Artificial Intelligence\n",
      "M.Tech Cybersecurity\n",
      "M.Tech Software Engineering\n",
      "M.Tech Machine Learning\n",
      "M.Tech Natural Language Processing\n",
      "M.Tech Information Security\n",
      "M.Tech Computer Vision\n",
      "M.Tech Big Data Analytics\n",
      "M.Tech Internet Security\n",
      "M.Tech Information Retrieval\n",
      "M.Tech Natural Language Understanding\n",
      "M.Tech Internet of Everything\n",
      "M.Tech Robotics Process Automation\n",
      "M.Tech Cloud Security\n",
      "M.Tech Natural Language Processing\n",
      "M.Tech Information Security\n",
      "M.Tech Computer Vision\n",
      "M.Tech Big Data Analytics\n",
      "M.Tech Internet Security\n",
      "M.Tech Information Retrieval\n",
      "M.Tech Natural Language Understanding\n",
      "M.Tech Internet of Everything\n",
      "M.Tech Robotics Process Automation\n",
      "M.Tech Cloud Security\n",
      "M.Tech Quantum Computing\n",
      "M.Tech Human-Computer Interaction\n",
      "M.Tech Natural Language Understanding\n"
     ]
    }
   ],
   "source": [
    "UG = input(\"Enter the UG: \")\n",
    "UG = 'B.Tech Computer Science'\n",
    "\n",
    "# Append all PG corresponding to the UG in the dataset to a list Qualified_PG\n",
    "Qualified_PG = df[df['UG'] == UG]['PG'].tolist()\n",
    "\n",
    "print(\"The postgraduate courses corresponding to the entered undergraduate course are:\")\n",
    "for pg in Qualified_PG:\n",
    "    print(pg)\n"
   ]
  },
  {
   "cell_type": "code",
   "execution_count": 14,
   "metadata": {},
   "outputs": [
    {
     "name": "stdout",
     "output_type": "stream",
     "text": [
      "The qualification is an Undergraduate course.\n",
      "Selected resumes: ['tg.pdf', 'xc.pdf', 'Data Scientist-MOHAMEDRIZWAN_CV.pdf (1).pdf', 'df.pdf']\n"
     ]
    }
   ],
   "source": [
    "import os\n",
    "import pandas as pd\n",
    "import PyPDF2\n",
    "from PyPDF2 import PdfReader\n",
    "df = pd.read_csv('dataset/ug_pg.csv')\n",
    "\n",
    "qualification = input(\"Enter the qualification: \")\n",
    "\n",
    "#qualification = 'B.Tech Computer Science'\n",
    "\n",
    "#qualification = 'M.Tech Software Engineering'\n",
    "\n",
    "# Check whether the qualification is UG or PG\n",
    "\n",
    "\n",
    "#If qualification is UG\n",
    "if qualification in df['UG'].values:\n",
    "    print(\"The qualification is an Undergraduate course.\")\n",
    "\n",
    "\n",
    "\n",
    "    # Append all PG corresponding to the UG in the dataset to a list Qualified_PG\n",
    "    Qualified_PG = df[df['UG'] == qualification]['PG'].tolist()\n",
    "\n",
    "    pred_keywords = []\n",
    "    directory = 'cv_base'\n",
    "\n",
    "    pred_keywords.append(qualification)\n",
    "    pred_keywords.extend(Qualified_PG)\n",
    "\n",
    "    def search_cv(pred_keywords,directory):\n",
    "        selected_resumes = []\n",
    "        for filename in os.listdir(directory):\n",
    "            if filename.endswith('.pdf'):\n",
    "                with open(os.path.join(directory, filename), 'rb') as file:\n",
    "                    reader = PdfReader(file)\n",
    "\n",
    "                    for page in reader.pages:\n",
    "                        page_text = page.extract_text()\n",
    "\n",
    "                        if any(keyword.lower() in page_text.lower() for keyword in pred_keywords):\n",
    "                            selected_resumes.append(filename)\n",
    "                            break\n",
    "        return selected_resumes\n",
    "    \n",
    "\n",
    "    selected_CV = search_cv(pred_keywords,directory)\n",
    "    print('Selected resumes:', selected_CV)\n",
    "\n",
    "\n",
    "\n",
    "\n",
    "\n",
    "\n",
    "#If qualification is PG\n",
    "elif qualification in df['PG'].values:\n",
    "    print(\"The qualification is a Postgraduate course.\")\n",
    "\n",
    "    pred_keywords = []\n",
    "    directory = 'cv_base'\n",
    "\n",
    "    pred_keywords.append(qualification)\n",
    "\n",
    "    def search_cv(pred_keywords,directory):\n",
    "        selected_resumes = []\n",
    "        for filename in os.listdir(directory):\n",
    "            if filename.endswith('.pdf'):\n",
    "                with open(os.path.join(directory, filename), 'rb') as file:\n",
    "                    reader = PdfReader(file)\n",
    "\n",
    "                    for page in reader.pages:\n",
    "                        page_text = page.extract_text()\n",
    "\n",
    "                        if any(keyword.lower() in page_text.lower() for keyword in pred_keywords):\n",
    "                            selected_resumes.append(filename)\n",
    "                            break\n",
    "        return selected_resumes\n",
    "    \n",
    "\n",
    "    selected_CV = search_cv(pred_keywords,directory)\n",
    "    print('Selected resumes:', selected_CV)\n",
    "\n",
    "else:\n",
    "    print(\"The qualification is not found in the dataset.\")\n"
   ]
  },
  {
   "cell_type": "code",
   "execution_count": 24,
   "metadata": {},
   "outputs": [
    {
     "name": "stdout",
     "output_type": "stream",
     "text": [
      "The postgraduate courses corresponding to the entered undergraduate course are:\n",
      "M.Com International Business Management\n",
      "M.Com International Business Management\n",
      "M.Com Global Marketing\n"
     ]
    }
   ],
   "source": [
    "from sklearn.feature_extraction.text import TfidfVectorizer\n",
    "from sklearn.neighbors import NearestNeighbors\n",
    "\n",
    "vectorizer = TfidfVectorizer()\n",
    "X = vectorizer.fit_transform(df['UG'])\n",
    "\n",
    "# Train a k-NN model\n",
    "model = NearestNeighbors(n_neighbors=1, metric='cosine')\n",
    "model.fit(X)\n",
    "UG = 'B.Com International Business Management'\n",
    "query = vectorizer.transform([UG])\n",
    "distances, indices = model.kneighbors(query)\n",
    "index = indices[0][0]\n",
    "\n",
    "# Append all PG corresponding to the UG in the dataset to a list Qualified_PG\n",
    "Qualified_PG = df[df['UG'] == df.loc[index, 'UG']]['PG'].tolist()\n",
    "\n",
    "print(\"The postgraduate courses corresponding to the entered undergraduate course are:\")\n",
    "for pg in Qualified_PG:\n",
    "    print(pg)\n"
   ]
  },
  {
   "cell_type": "code",
   "execution_count": 23,
   "metadata": {},
   "outputs": [
    {
     "name": "stdout",
     "output_type": "stream",
     "text": [
      "The postgraduate courses corresponding to the entered undergraduate course are:\n",
      "M.Com International Business Management\n",
      "M.Com International Business Management\n",
      "M.Com Global Marketing\n"
     ]
    }
   ],
   "source": [
    "UG = 'B.Com International Business Management'\n",
    "\n",
    "# Append all PG corresponding to the UG in the dataset to a list Qualified_PG\n",
    "Qualified_PG = df[df['UG'] == UG]['PG'].tolist()\n",
    "\n",
    "print(\"The postgraduate courses corresponding to the entered undergraduate course are:\")\n",
    "for pg in Qualified_PG:\n",
    "    print(pg)"
   ]
  },
  {
   "cell_type": "code",
   "execution_count": 1,
   "metadata": {},
   "outputs": [
    {
     "name": "stdout",
     "output_type": "stream",
     "text": [
      "The postgraduate courses corresponding to the entered undergraduate course are:\n",
      "M.Com International Business Management\n",
      "M.Com International Business Management\n",
      "M.Com Global Marketing\n"
     ]
    }
   ],
   "source": [
    "import pandas as pd\n",
    "from sklearn.feature_extraction.text import TfidfVectorizer\n",
    "from sklearn.neighbors import NearestNeighbors\n",
    "\n",
    "\n",
    "\n",
    "df = pd.read_csv('dataset/ug_pg.csv')\n",
    "\n",
    "vectorizer = TfidfVectorizer()\n",
    "X = vectorizer.fit_transform(df['UG'])\n",
    "\n",
    "# Train a k-NN model\n",
    "model = NearestNeighbors(n_neighbors=1, metric='cosine')\n",
    "model.fit(X)\n",
    "UG = 'B.Com International Business Management'\n",
    "query = vectorizer.transform([UG])\n",
    "distances, indices = model.kneighbors(query)\n",
    "index = indices[0][0]\n",
    "\n",
    "# Append all PG corresponding to the UG in the dataset to a list Qualified_PG\n",
    "Qualified_PG = df[df['UG'] == df.loc[index, 'UG']]['PG'].tolist()\n",
    "\n",
    "print(\"The postgraduate courses corresponding to the entered undergraduate course are:\")\n",
    "for pg in Qualified_PG:\n",
    "    print(pg)"
   ]
  },
  {
   "cell_type": "code",
   "execution_count": 3,
   "metadata": {},
   "outputs": [
    {
     "data": {
      "text/plain": [
       "['KNN_Model/vectorizer.joblib']"
      ]
     },
     "execution_count": 3,
     "metadata": {},
     "output_type": "execute_result"
    }
   ],
   "source": [
    "import pandas as pd\n",
    "from sklearn.feature_extraction.text import TfidfVectorizer\n",
    "from sklearn.neighbors import NearestNeighbors\n",
    "from joblib import dump, load\n",
    "\n",
    "df = pd.read_csv('dataset/ug_pg.csv')\n",
    "\n",
    "vectorizer = TfidfVectorizer()\n",
    "X = vectorizer.fit_transform(df['UG'])\n",
    "\n",
    "# Train a k-NN model\n",
    "model = NearestNeighbors(n_neighbors=1, metric='cosine')\n",
    "model.fit(X)\n",
    "\n",
    "# Save the model and vectorizer\n",
    "dump(model, 'KNN_Model/model.joblib')\n",
    "dump(vectorizer, 'KNN_Model/vectorizer.joblib')"
   ]
  },
  {
   "cell_type": "code",
   "execution_count": 6,
   "metadata": {},
   "outputs": [
    {
     "name": "stdout",
     "output_type": "stream",
     "text": [
      "The postgraduate courses corresponding to the entered undergraduate course are:\n",
      "M.Com International Business Management\n",
      "M.Com International Business Management\n",
      "M.Com Global Marketing\n"
     ]
    }
   ],
   "source": [
    "UG = 'B.Com International Business Management'\n",
    "# Load the model and vectorizer\n",
    "from sklearn.feature_extraction.text import TfidfVectorizer\n",
    "from sklearn.neighbors import NearestNeighbors\n",
    "from joblib import dump, load\n",
    "model = load('KNN_Model/model.joblib')\n",
    "vectorizer = load('KNN_Model/vectorizer.joblib')\n",
    "\n",
    "query = vectorizer.transform([UG])\n",
    "distances, indices = model.kneighbors(query)\n",
    "index = indices[0][0]\n",
    "\n",
    "# Append all PG corresponding to the UG in the dataset to a list Qualified_PG\n",
    "Qualified_PG = df[df['UG'] == df.loc[index, 'UG']]['PG'].tolist()\n",
    "\n",
    "print(\"The postgraduate courses corresponding to the entered undergraduate course are:\")\n",
    "for pg in Qualified_PG:\n",
    "    print(pg)"
   ]
  }
 ],
 "metadata": {
  "kernelspec": {
   "display_name": "tf",
   "language": "python",
   "name": "python3"
  },
  "language_info": {
   "codemirror_mode": {
    "name": "ipython",
    "version": 3
   },
   "file_extension": ".py",
   "mimetype": "text/x-python",
   "name": "python",
   "nbconvert_exporter": "python",
   "pygments_lexer": "ipython3",
   "version": "3.9.18"
  }
 },
 "nbformat": 4,
 "nbformat_minor": 2
}
