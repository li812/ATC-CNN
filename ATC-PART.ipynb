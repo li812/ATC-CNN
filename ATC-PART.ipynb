{
 "cells": [
  {
   "cell_type": "markdown",
   "metadata": {},
   "source": [
    "=============================================================== Pattern Filtering ============================================================="
   ]
  },
  {
   "cell_type": "code",
   "execution_count": 15,
   "metadata": {},
   "outputs": [
    {
     "name": "stdout",
     "output_type": "stream",
     "text": [
      "The qualification is an Undergraduate course.\n",
      "Selected resumes: ['tg.pdf', 'xc.pdf', 'Data Scientist-MOHAMEDRIZWAN_CV.pdf (1).pdf', 'df.pdf']\n"
     ]
    }
   ],
   "source": [
    "import os\n",
    "import pandas as pd\n",
    "import PyPDF2\n",
    "from PyPDF2 import PdfReader\n",
    "df = pd.read_csv('dataset/ug_pg.csv')\n",
    "\n",
    "qualification = input(\"Enter the qualification: \")\n",
    "\n",
    "#qualification = 'B.Tech Computer Science'\n",
    "\n",
    "#qualification = 'M.Tech Software Engineering'\n",
    "\n",
    "# Check whether the qualification is UG or PG\n",
    "\n",
    "\n",
    "#If qualification is UG\n",
    "if qualification in df['UG'].values:\n",
    "    print(\"The qualification is an Undergraduate course.\")\n",
    "\n",
    "\n",
    "\n",
    "    # Append all PG corresponding to the UG in the dataset to a list Qualified_PG\n",
    "    Qualified_PG = df[df['UG'] == qualification]['PG'].tolist()\n",
    "\n",
    "    pred_keywords = []\n",
    "    directory = 'cv_base'\n",
    "\n",
    "    pred_keywords.append(qualification)\n",
    "    pred_keywords.extend(Qualified_PG)\n",
    "\n",
    "    def search_cv(pred_keywords,directory):\n",
    "        selected_resumes = []\n",
    "        for filename in os.listdir(directory):\n",
    "            if filename.endswith('.pdf'):\n",
    "                with open(os.path.join(directory, filename), 'rb') as file:\n",
    "                    reader = PdfReader(file)\n",
    "\n",
    "                    for page in reader.pages:\n",
    "                        page_text = page.extract_text()\n",
    "\n",
    "                        if any(keyword.lower() in page_text.lower() for keyword in pred_keywords):\n",
    "                            selected_resumes.append(filename)\n",
    "                            break\n",
    "        return selected_resumes\n",
    "    \n",
    "\n",
    "    selected_CV = search_cv(pred_keywords,directory)\n",
    "    print('Selected resumes:', selected_CV)\n",
    "\n",
    "\n",
    "\n",
    "\n",
    "\n",
    "\n",
    "#If qualification is PG\n",
    "elif qualification in df['PG'].values:\n",
    "    print(\"The qualification is a Postgraduate course.\")\n",
    "\n",
    "    pred_keywords = []\n",
    "    directory = 'cv_base'\n",
    "\n",
    "    pred_keywords.append(qualification)\n",
    "\n",
    "    def search_cv(pred_keywords,directory):\n",
    "        selected_resumes = []\n",
    "        for filename in os.listdir(directory):\n",
    "            if filename.endswith('.pdf'):\n",
    "                with open(os.path.join(directory, filename), 'rb') as file:\n",
    "                    reader = PdfReader(file)\n",
    "\n",
    "                    for page in reader.pages:\n",
    "                        page_text = page.extract_text()\n",
    "\n",
    "                        if any(keyword.lower() in page_text.lower() for keyword in pred_keywords):\n",
    "                            selected_resumes.append(filename)\n",
    "                            break\n",
    "        return selected_resumes\n",
    "    \n",
    "\n",
    "    selected_CV = search_cv(pred_keywords,directory)\n",
    "    print('Selected resumes:', selected_CV)\n",
    "\n",
    "else:\n",
    "    print(\"The qualification is not found in the dataset.\")\n"
   ]
  },
  {
   "cell_type": "markdown",
   "metadata": {},
   "source": [
    "=============================================================== Data Mining ============================================================="
   ]
  },
  {
   "cell_type": "code",
   "execution_count": 19,
   "metadata": {},
   "outputs": [
    {
     "name": "stdout",
     "output_type": "stream",
     "text": [
      "Selected resumes: ['Data Scientist-MOHAMEDRIZWAN_CV.pdf (1).pdf']\n"
     ]
    }
   ],
   "source": [
    "import os\n",
    "import pandas as pd\n",
    "import PyPDF2\n",
    "from PyPDF2 import PdfReader\n",
    "\n",
    "\n",
    "# List of keywords to search for\n",
    "pred_keywords = ['RIZWAN']\n",
    "directory = 'cv_base'\n",
    "\n",
    "def search_cv(pred_keywords,directory):\n",
    "    selected_resumes = []\n",
    "    for filename in os.listdir(directory):\n",
    "        if filename.endswith('.pdf'):\n",
    "            with open(os.path.join(directory, filename), 'rb') as file:\n",
    "                reader = PdfReader(file)\n",
    "\n",
    "                for page in reader.pages:\n",
    "                    page_text = page.extract_text()\n",
    "\n",
    "                    if any(keyword.lower() in page_text.lower() for keyword in pred_keywords):\n",
    "                        selected_resumes.append(filename)\n",
    "                        break\n",
    "    return selected_resumes\n",
    "    \n",
    "\n",
    "selected_CV = search_cv(pred_keywords,directory)\n",
    "print('Selected resumes:', selected_CV)\n",
    "\n"
   ]
  }
 ],
 "metadata": {
  "kernelspec": {
   "display_name": "tf",
   "language": "python",
   "name": "python3"
  },
  "language_info": {
   "codemirror_mode": {
    "name": "ipython",
    "version": 3
   },
   "file_extension": ".py",
   "mimetype": "text/x-python",
   "name": "python",
   "nbconvert_exporter": "python",
   "pygments_lexer": "ipython3",
   "version": "3.9.18"
  }
 },
 "nbformat": 4,
 "nbformat_minor": 2
}
