{
 "cells": [
  {
   "cell_type": "code",
   "execution_count": 4,
   "metadata": {},
   "outputs": [
    {
     "name": "stdout",
     "output_type": "stream",
     "text": [
      "The qualification is an Undergraduate course.\n"
     ]
    },
    {
     "name": "stderr",
     "output_type": "stream",
     "text": [
      "/opt/anaconda3/lib/python3.11/site-packages/sklearn/base.py:318: UserWarning: Trying to unpickle estimator NearestNeighbors from version 1.1.3 when using version 1.2.2. This might lead to breaking code or invalid results. Use at your own risk. For more info please refer to:\n",
      "https://scikit-learn.org/stable/model_persistence.html#security-maintainability-limitations\n",
      "  warnings.warn(\n",
      "/opt/anaconda3/lib/python3.11/site-packages/sklearn/base.py:318: UserWarning: Trying to unpickle estimator TfidfTransformer from version 1.1.3 when using version 1.2.2. This might lead to breaking code or invalid results. Use at your own risk. For more info please refer to:\n",
      "https://scikit-learn.org/stable/model_persistence.html#security-maintainability-limitations\n",
      "  warnings.warn(\n",
      "/opt/anaconda3/lib/python3.11/site-packages/sklearn/base.py:318: UserWarning: Trying to unpickle estimator TfidfVectorizer from version 1.1.3 when using version 1.2.2. This might lead to breaking code or invalid results. Use at your own risk. For more info please refer to:\n",
      "https://scikit-learn.org/stable/model_persistence.html#security-maintainability-limitations\n",
      "  warnings.warn(\n"
     ]
    },
    {
     "name": "stdout",
     "output_type": "stream",
     "text": [
      "Selected resumes: ['tg.pdf', 'xc.pdf', 'Data Scientist-MOHAMEDRIZWAN_CV.pdf (1).pdf', 'df.pdf']\n"
     ]
    }
   ],
   "source": [
    "import os\n",
    "import pandas as pd\n",
    "import PyPDF2\n",
    "from PyPDF2 import PdfReader\n",
    "\n",
    "def ug_pg_miner(qualification):\n",
    "    df = pd.read_csv('dataset/ug_pg.csv')\n",
    "    #If qualification is UG\n",
    "    if qualification in df['UG'].values:\n",
    "        print(\"The qualification is an Undergraduate course.\")\n",
    "        from sklearn.feature_extraction.text import TfidfVectorizer\n",
    "        from sklearn.neighbors import NearestNeighbors\n",
    "        from joblib import dump, load\n",
    "        model = load('KNN_Model/model.joblib')\n",
    "        vectorizer = load('KNN_Model/vectorizer.joblib')\n",
    "        query = vectorizer.transform([qualification])\n",
    "        distances, indices = model.kneighbors(query)\n",
    "        index = indices[0][0]\n",
    "        # Append all PG corresponding to the UG in the dataset to a list Qualified_PG\n",
    "        Qualified_PG = df[df['UG'] == df.loc[index, 'UG']]['PG'].tolist()\n",
    "        pred_keywords = []\n",
    "        directory = 'cv_base'\n",
    "        pred_keywords.append(qualification)\n",
    "        pred_keywords.extend(Qualified_PG)\n",
    "        def search_cv(pred_keywords,directory):\n",
    "            selected_resumes = []\n",
    "            for filename in os.listdir(directory):\n",
    "                if filename.endswith('.pdf'):\n",
    "                    with open(os.path.join(directory, filename), 'rb') as file:\n",
    "                        reader = PdfReader(file)\n",
    "\n",
    "                        for page in reader.pages:\n",
    "                            page_text = page.extract_text()\n",
    "\n",
    "                            if any(keyword.lower() in page_text.lower() for keyword in pred_keywords):\n",
    "                                selected_resumes.append(filename)\n",
    "                                break\n",
    "            return selected_resumes\n",
    "        selected_CV = search_cv(pred_keywords,directory)\n",
    "        return selected_CV\n",
    "\n",
    "\n",
    "    #If qualification is PG\n",
    "    elif qualification in df['PG'].values:\n",
    "        print(\"The qualification is a Postgraduate course.\")\n",
    "\n",
    "        pred_keywords = []\n",
    "        directory = 'cv_base'\n",
    "\n",
    "        pred_keywords.append(qualification)\n",
    "\n",
    "        def search_cv(pred_keywords,directory):\n",
    "            selected_resumes = []\n",
    "            for filename in os.listdir(directory):\n",
    "                if filename.endswith('.pdf'):\n",
    "                    with open(os.path.join(directory, filename), 'rb') as file:\n",
    "                        reader = PdfReader(file)\n",
    "\n",
    "                        for page in reader.pages:\n",
    "                            page_text = page.extract_text()\n",
    "\n",
    "                            if any(keyword.lower() in page_text.lower() for keyword in pred_keywords):\n",
    "                                selected_resumes.append(filename)\n",
    "                                break\n",
    "            return selected_resumes\n",
    "        selected_CV = search_cv(pred_keywords,directory)\n",
    "        return selected_CV\n",
    "\n",
    "    else:\n",
    "        return False\n"
   ]
  }
 ],
 "metadata": {
  "kernelspec": {
   "display_name": "base",
   "language": "python",
   "name": "python3"
  },
  "language_info": {
   "codemirror_mode": {
    "name": "ipython",
    "version": 3
   },
   "file_extension": ".py",
   "mimetype": "text/x-python",
   "name": "python",
   "nbconvert_exporter": "python",
   "pygments_lexer": "ipython3",
   "version": "3.11.8"
  }
 },
 "nbformat": 4,
 "nbformat_minor": 2
}
